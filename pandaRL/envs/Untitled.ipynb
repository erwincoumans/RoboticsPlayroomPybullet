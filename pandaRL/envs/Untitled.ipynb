{
 "cells": [
  {
   "cell_type": "code",
   "execution_count": 1,
   "metadata": {},
   "outputs": [],
   "source": [
    "import pandaRL\n",
    "import gym\n",
    "import numpy as np\n",
    "import time\n",
    "import os\n"
   ]
  },
  {
   "cell_type": "code",
   "execution_count": 2,
   "metadata": {},
   "outputs": [
    {
     "name": "stdout",
     "output_type": "stream",
     "text": [
      "current_dir=/home/sholto/Desktop/AI/pandaRL/pandaRL/envs\n"
     ]
    },
    {
     "name": "stderr",
     "output_type": "stream",
     "text": [
      "/home/sholto/anaconda3/lib/python3.7/site-packages/gym/logger.py:30: UserWarning: \u001b[33mWARN: Box bound precision lowered by casting to float32\u001b[0m\n",
      "  warnings.warn(colorize('%s: %s'%('WARN', msg % args), 'yellow'))\n"
     ]
    },
    {
     "data": {
      "text/plain": [
       "{'observation': array([-1.8580314e-02,  6.5309055e-02, -4.8573155e-02,  7.1021378e-01,\n",
       "        -7.9463510e-04, -1.0080069e-03,  7.0398492e-01,  2.0000000e-02,\n",
       "         8.3180934e-02, -4.5180023e-02,  1.1159238e-01, -7.0710701e-01,\n",
       "         1.3967930e-06,  6.8110046e-07,  7.0710653e-01,  2.9342022e-02,\n",
       "        -2.0075889e-02,  1.0194480e-01, -5.9285253e-01, -3.8457337e-01,\n",
       "         3.8363054e-01,  5.9452236e-01], dtype=float32),\n",
       " 'achieved_goal': array([ 8.3180934e-02, -4.5180023e-02,  1.1159238e-01, -7.0710701e-01,\n",
       "         1.3967930e-06,  6.8110046e-07,  7.0710653e-01,  2.9342022e-02,\n",
       "        -2.0075889e-02,  1.0194480e-01, -5.9285253e-01, -3.8457337e-01,\n",
       "         3.8363054e-01,  5.9452236e-01], dtype=float32),\n",
       " 'desired_goal': array([-0.11611623,  0.07967193, -0.01289167, -0.17151459,  0.02187894,\n",
       "         0.06858361], dtype=float32),\n",
       " 'controllable_achieved_goal': array([-0.01858031,  0.06530906, -0.04857315,  0.02      ], dtype=float32),\n",
       " 'full_positional_state': array([-1.8580314e-02,  6.5309055e-02, -4.8573155e-02,  7.1021378e-01,\n",
       "        -7.9463510e-04, -1.0080069e-03,  7.0398492e-01,  2.0000000e-02,\n",
       "         8.3180934e-02, -4.5180023e-02,  1.1159238e-01, -7.0710701e-01,\n",
       "         1.3967930e-06,  6.8110046e-07,  7.0710653e-01,  2.9342022e-02,\n",
       "        -2.0075889e-02,  1.0194480e-01, -5.9285253e-01, -3.8457337e-01,\n",
       "         3.8363054e-01,  5.9452236e-01], dtype=float32)}"
      ]
     },
     "execution_count": 2,
     "metadata": {},
     "output_type": "execute_result"
    }
   ],
   "source": [
    "env = gym.make('pandaPlay-v0')\n",
    "env.render('human')\n",
    "env.reset()"
   ]
  },
  {
   "cell_type": "code",
   "execution_count": 3,
   "metadata": {},
   "outputs": [
    {
     "name": "stdout",
     "output_type": "stream",
     "text": [
      "CPU times: user 543 ms, sys: 427 µs, total: 543 ms\n",
      "Wall time: 424 ms\n"
     ]
    }
   ],
   "source": [
    "%%time\n",
    "for i in range(0,25):\n",
    "    o,r,d,_ = env.step(env.action_space.sample())"
   ]
  },
  {
   "cell_type": "code",
   "execution_count": 17,
   "metadata": {},
   "outputs": [
    {
     "data": {
      "text/plain": [
       "array([3.17690607])"
      ]
     },
     "execution_count": 17,
     "metadata": {},
     "output_type": "execute_result"
    }
   ],
   "source": [
    "np.random.random(1)*2*np.pi"
   ]
  },
  {
   "cell_type": "code",
   "execution_count": 18,
   "metadata": {},
   "outputs": [
    {
     "data": {
      "text/plain": [
       "3.141592653589793"
      ]
     },
     "execution_count": 18,
     "metadata": {},
     "output_type": "execute_result"
    }
   ],
   "source": [
    "np.pi"
   ]
  },
  {
   "cell_type": "code",
   "execution_count": 19,
   "metadata": {},
   "outputs": [
    {
     "data": {
      "text/plain": [
       "1.2246467991473532e-16"
      ]
     },
     "execution_count": 19,
     "metadata": {},
     "output_type": "execute_result"
    }
   ],
   "source": [
    "np.sin(np.pi)"
   ]
  },
  {
   "cell_type": "code",
   "execution_count": 4,
   "metadata": {},
   "outputs": [],
   "source": [
    "keys = ['obs', 'acts', 'desired_goals', 'achieved_goals', 'full_positional_states']\n",
    "dataset_path = 'collected_data/pick_demos/'\n",
    "def load_data(path, keys):\n",
    "    reset_states = []\n",
    "    dataset_dict = {key:[] for key in keys}\n",
    "    for demo in os.listdir(path):\n",
    "        traj = np.load(path+demo+'/data.npz')\n",
    "        [dataset_dict[key].append(traj[key]) for key in keys]\n",
    "        \n",
    "        reset_states.append(path+demo+'/env_states/')\n",
    "    \n",
    "    for key in keys:\n",
    "        dataset_dict[key] = np.array(dataset_dict[key])\n",
    "    return dataset_dict, reset_states\n",
    "    \n"
   ]
  },
  {
   "cell_type": "code",
   "execution_count": 6,
   "metadata": {},
   "outputs": [],
   "source": [
    "examples, reset_states = load_data(dataset_path, keys)"
   ]
  },
  {
   "cell_type": "code",
   "execution_count": 7,
   "metadata": {},
   "outputs": [
    {
     "name": "stdout",
     "output_type": "stream",
     "text": [
      "(2, 30, 21)\n"
     ]
    }
   ],
   "source": [
    "obs = examples['obs']\n",
    "acts = examples['acts']\n",
    "goals = examples['desired_goals']\n",
    "ags = examples['achieved_goals']\n",
    "full_positional_states = examples['full_positional_states']\n",
    "print(obs.shape)"
   ]
  },
  {
   "cell_type": "code",
   "execution_count": 9,
   "metadata": {},
   "outputs": [
    {
     "ename": "error",
     "evalue": "Couldn't restore state.",
     "output_type": "error",
     "traceback": [
      "\u001b[0;31m---------------------------------------------------------------------------\u001b[0m",
      "\u001b[0;31merror\u001b[0m                                     Traceback (most recent call last)",
      "\u001b[0;32m<ipython-input-9-5c045807cc2f>\u001b[0m in \u001b[0;36m<module>\u001b[0;34m\u001b[0m\n\u001b[1;32m      3\u001b[0m \u001b[0mtraj_len\u001b[0m \u001b[0;34m=\u001b[0m \u001b[0mlen\u001b[0m\u001b[0;34m(\u001b[0m\u001b[0mobs\u001b[0m\u001b[0;34m[\u001b[0m\u001b[0midx\u001b[0m\u001b[0;34m]\u001b[0m\u001b[0;34m)\u001b[0m\u001b[0;34m\u001b[0m\u001b[0;34m\u001b[0m\u001b[0m\n\u001b[1;32m      4\u001b[0m \u001b[0menv\u001b[0m\u001b[0;34m.\u001b[0m\u001b[0mpanda\u001b[0m\u001b[0;34m.\u001b[0m\u001b[0mreset_goal_pos\u001b[0m\u001b[0;34m(\u001b[0m\u001b[0mags\u001b[0m\u001b[0;34m[\u001b[0m\u001b[0midx\u001b[0m\u001b[0;34m,\u001b[0m\u001b[0;34m-\u001b[0m\u001b[0;36m1\u001b[0m\u001b[0;34m,\u001b[0m\u001b[0;34m:\u001b[0m\u001b[0;34m]\u001b[0m\u001b[0;34m)\u001b[0m\u001b[0;34m\u001b[0m\u001b[0;34m\u001b[0m\u001b[0m\n\u001b[0;32m----> 5\u001b[0;31m \u001b[0menv\u001b[0m\u001b[0;34m.\u001b[0m\u001b[0mp\u001b[0m\u001b[0;34m.\u001b[0m\u001b[0mrestoreState\u001b[0m\u001b[0;34m(\u001b[0m\u001b[0mfileName\u001b[0m\u001b[0;34m=\u001b[0m\u001b[0mresets\u001b[0m\u001b[0;34m+\u001b[0m\u001b[0mstr\u001b[0m\u001b[0;34m(\u001b[0m\u001b[0;36m0\u001b[0m\u001b[0;34m)\u001b[0m\u001b[0;34m+\u001b[0m\u001b[0;34m'.txt'\u001b[0m\u001b[0;34m)\u001b[0m\u001b[0;34m\u001b[0m\u001b[0;34m\u001b[0m\u001b[0m\n\u001b[0m\u001b[1;32m      6\u001b[0m \u001b[0;32mfor\u001b[0m \u001b[0mi\u001b[0m \u001b[0;32min\u001b[0m \u001b[0mrange\u001b[0m\u001b[0;34m(\u001b[0m\u001b[0;36m0\u001b[0m\u001b[0;34m,\u001b[0m \u001b[0mtraj_len\u001b[0m\u001b[0;34m)\u001b[0m\u001b[0;34m:\u001b[0m\u001b[0;34m\u001b[0m\u001b[0;34m\u001b[0m\u001b[0m\n\u001b[1;32m      7\u001b[0m     \u001b[0menv\u001b[0m\u001b[0;34m.\u001b[0m\u001b[0mstep\u001b[0m\u001b[0;34m(\u001b[0m\u001b[0macts\u001b[0m\u001b[0;34m[\u001b[0m\u001b[0midx\u001b[0m\u001b[0;34m,\u001b[0m \u001b[0mi\u001b[0m\u001b[0;34m,\u001b[0m \u001b[0;34m:\u001b[0m\u001b[0;34m]\u001b[0m\u001b[0;34m)\u001b[0m\u001b[0;34m\u001b[0m\u001b[0;34m\u001b[0m\u001b[0m\n",
      "\u001b[0;31merror\u001b[0m: Couldn't restore state."
     ]
    }
   ],
   "source": [
    "idx = np.random.choice(len(obs))\n",
    "resets = reset_states[idx]\n",
    "traj_len = len(obs[idx])\n",
    "env.panda.reset_goal_pos(ags[idx,-1,:])\n",
    "env.p.restoreState(fileName=resets+str(0)+'.bullet')\n",
    "for i in range(0, traj_len):\n",
    "    env.step(acts[idx, i, :])\n",
    "    #time.sleep(0.1)"
   ]
  },
  {
   "cell_type": "code",
   "execution_count": 10,
   "metadata": {},
   "outputs": [
    {
     "data": {
      "text/plain": [
       "'collected_data/pick_demos/0/env_states/0.txt'"
      ]
     },
     "execution_count": 10,
     "metadata": {},
     "output_type": "execute_result"
    }
   ],
   "source": [
    "resets+str(0)+'.txt'"
   ]
  },
  {
   "cell_type": "code",
   "execution_count": 21,
   "metadata": {},
   "outputs": [],
   "source": [
    "idx = np.random.choice(len(obs))\n",
    "traj = obs[idx,:,:]\n",
    "\n",
    "\n",
    "env.reset(traj[1])\n"
   ]
  },
  {
   "cell_type": "code",
   "execution_count": 22,
   "metadata": {},
   "outputs": [],
   "source": [
    "for i in range(len(traj)):\n",
    "    env.reset(traj[i])\n",
    "    #env.visualise_sub_goal(full_positional_states[idx, -1,:])\n",
    "   \n",
    "    \n",
    "    time.sleep(0.02)"
   ]
  },
  {
   "cell_type": "code",
   "execution_count": 10,
   "metadata": {},
   "outputs": [],
   "source": [
    "env.reset_goal_pos(np.array([0.1,0.1,0.1]))"
   ]
  },
  {
   "cell_type": "markdown",
   "metadata": {},
   "source": [
    "# We need Determinism"
   ]
  },
  {
   "cell_type": "code",
   "execution_count": 23,
   "metadata": {},
   "outputs": [],
   "source": [
    "open_gripper = np.array([0.04])\n",
    "closed_gripper = np.array([0.01])\n",
    "\n",
    "def go_above(env, obj_number):\n",
    "    desired_position = env.panda.calc_environment_state()[obj_number]['pos'] + np.array([0, 0.05, 0])\n",
    "    current_position = env.panda.calc_actor_state()['pos']\n",
    "    action = np.concatenate([desired_position - current_position, env.panda.default_arm_orn, open_gripper])\n",
    "    return action\n",
    "\n",
    "def descend(env, obj_number):\n",
    "    desired_position = env.panda.calc_environment_state()[obj_number]['pos'] + np.array([0, -0.015, 0])\n",
    "    current_position = env.panda.calc_actor_state()['pos']\n",
    "    action = np.concatenate([desired_position - current_position, env.panda.default_arm_orn, open_gripper])\n",
    "    return action\n",
    "\n",
    "def close(env, obj_number):\n",
    "    desired_position = env.panda.calc_environment_state()[obj_number]['pos']\n",
    "    current_position = env.panda.calc_actor_state()['pos']\n",
    "    action = np.concatenate([desired_position - current_position, env.panda.default_arm_orn, closed_gripper])\n",
    "    return action\n",
    "\n",
    "def lift(env, obj_number):\n",
    "    desired_position = env.panda.calc_environment_state()[obj_number]['pos']\n",
    "    desired_position[1] +=  0.02\n",
    "    current_position = env.panda.calc_actor_state()['pos']\n",
    "    action = np.concatenate([desired_position - current_position, env.panda.default_arm_orn, closed_gripper])\n",
    "    return action\n",
    "\n",
    "def take_to(env, position):\n",
    "    desired_position = position\n",
    "    current_position = env.panda.calc_actor_state()['pos']\n",
    "    action = np.concatenate([desired_position - current_position, env.panda.default_arm_orn, closed_gripper])*0.5\n",
    "    return action\n"
   ]
  },
  {
   "cell_type": "code",
   "execution_count": 24,
   "metadata": {},
   "outputs": [],
   "source": [
    "times = [1,2,3,4,6]\n",
    "states  = [go_above, descend, close, lift, take_to]\n",
    "p = env.panda.bullet_client\n",
    "t = 0\n",
    "state_pointer = 0\n",
    "dt = 2/10\n",
    "\n",
    "action_buff = []\n",
    "observation_buff = []\n",
    "desired_goals_buff = []\n",
    "achieved_goals_buff = []\n",
    "controllable_achieved_goal_buff = []\n",
    "full_positional_state_buff = []\n",
    "take_to_pos =  np.random.uniform(env.goal_lower_bound, env.goal_upper_bound)\n"
   ]
  },
  {
   "cell_type": "code",
   "execution_count": 51,
   "metadata": {},
   "outputs": [],
   "source": [
    "def dumpStateToFile(file):\n",
    "    for i in range(p.getNumBodies()):\n",
    "        pos, orn = p.getBasePositionAndOrientation(i)\n",
    "        linVel, angVel = p.getBaseVelocity(i)\n",
    "        txtPos = \"pos=\" + str(pos) + \"\\n\"\n",
    "        txtOrn = \"orn=\" + str(orn) + \"\\n\"\n",
    "        txtLinVel = \"linVel\" + str(linVel) + \"\\n\"\n",
    "        txtAngVel = \"angVel\" + str(angVel) + \"\\n\"\n",
    "        file.write(txtPos)\n",
    "        file.write(txtOrn)\n",
    "        file.write(txtLinVel)\n",
    "        file.write(txtAngVel)\n"
   ]
  },
  {
   "cell_type": "code",
   "execution_count": 74,
   "metadata": {},
   "outputs": [],
   "source": [
    "import os"
   ]
  },
  {
   "cell_type": "code",
   "execution_count": 88,
   "metadata": {},
   "outputs": [
    {
     "name": "stdout",
     "output_type": "stream",
     "text": [
      "Storing Replay\n"
     ]
    }
   ],
   "source": [
    "o = env.reset()\n",
    "env.panda.reset_goal_pos(take_to_pos)\n",
    "t = 0\n",
    "state_pointer = 0\n",
    "\n",
    "acts, obs, goals, ags , cagb,  fpsb = [], [], [], [], [], []\n",
    "os.remove(\"saveFile.txt\")\n",
    "file = open(\"saveFile.txt\", \"w\")\n",
    "dumpStateToFile(file)\n",
    "file.close()\n",
    "os.remove(\"state.bullet\")\n",
    "p.saveBullet(\"state.bullet\")\n",
    "time.sleep(2)\n",
    "while(t < times[state_pointer]):\n",
    "    if state_pointer == 4:\n",
    "        action = states[state_pointer](env,take_to_pos)\n",
    "    else:\n",
    "        action = states[state_pointer](env, obj_number = 0)\n",
    "\n",
    "\n",
    "    o2, r, d, _ = env.step(action)\n",
    "    if d:\n",
    "        break\n",
    "    acts.append(action), obs.append(o['observation']), goals.append(o['desired_goal']), ags.append(o2['achieved_goal']) ,\\\n",
    "    cagb.append(o2['controllable_achieved_goal']), fpsb.append(o2['full_positional_state'])\n",
    "    o = o2\n",
    "\n",
    "    t += dt\n",
    "    if t >= times[state_pointer]:\n",
    "        state_pointer += 1\n",
    "\n",
    "    if t >=  times[-1]:\n",
    "        if r > -1: # if demo was successful, append\n",
    "            print('Storing Replay')\n",
    "            action_buff.append(acts), observation_buff.append(obs), desired_goals_buff.append(goals), achieved_goals_buff.append(ags), \\\n",
    "            controllable_achieved_goal_buff.append(cagb), full_positional_state_buff.append(fpsb)\n",
    "        break"
   ]
  },
  {
   "cell_type": "code",
   "execution_count": 89,
   "metadata": {},
   "outputs": [],
   "source": [
    "p.restoreState(fileName=\"state.bullet\")"
   ]
  },
  {
   "cell_type": "code",
   "execution_count": 90,
   "metadata": {},
   "outputs": [],
   "source": [
    "#env.reset(obs[0])\n",
    "for i in range(len(acts)):\n",
    "    \n",
    "    env.panda.reset_goal_pos(take_to_pos)\n",
    "    #env.visualise_sub_goal(full_positional_states[idx, -1,:])\n",
    "   \n",
    "    env.step(acts[i])\n",
    "    time.sleep(0.05)"
   ]
  },
  {
   "cell_type": "code",
   "execution_count": 1,
   "metadata": {},
   "outputs": [
    {
     "ename": "NameError",
     "evalue": "name 'env' is not defined",
     "output_type": "error",
     "traceback": [
      "\u001b[0;31m---------------------------------------------------------------------------\u001b[0m",
      "\u001b[0;31mNameError\u001b[0m                                 Traceback (most recent call last)",
      "\u001b[0;32m<ipython-input-1-7954aca2aa38>\u001b[0m in \u001b[0;36m<module>\u001b[0;34m\u001b[0m\n\u001b[0;32m----> 1\u001b[0;31m \u001b[0menv\u001b[0m\u001b[0;34m.\u001b[0m\u001b[0mreset\u001b[0m\u001b[0;34m(\u001b[0m\u001b[0mobs\u001b[0m\u001b[0;34m[\u001b[0m\u001b[0;36m0\u001b[0m\u001b[0;34m]\u001b[0m\u001b[0;34m)\u001b[0m\u001b[0;34m\u001b[0m\u001b[0;34m\u001b[0m\u001b[0m\n\u001b[0m\u001b[1;32m      2\u001b[0m \u001b[0mi\u001b[0m\u001b[0;34m=\u001b[0m\u001b[0;36m0\u001b[0m\u001b[0;34m\u001b[0m\u001b[0;34m\u001b[0m\u001b[0m\n",
      "\u001b[0;31mNameError\u001b[0m: name 'env' is not defined"
     ]
    }
   ],
   "source": [
    "env.reset(obs[0])\n",
    "i=0"
   ]
  },
  {
   "cell_type": "code",
   "execution_count": 3,
   "metadata": {},
   "outputs": [
    {
     "data": {
      "text/plain": [
       "['pick.npz', 'panda_sim.py']"
      ]
     },
     "execution_count": 3,
     "metadata": {},
     "output_type": "execute_result"
    }
   ],
   "source": [
    "import os\n",
    "os.listdir('collected_data')"
   ]
  },
  {
   "cell_type": "code",
   "execution_count": 6,
   "metadata": {},
   "outputs": [],
   "source": [
    "os.makedirs('collected_data/pick_demos')"
   ]
  },
  {
   "cell_type": "code",
   "execution_count": 49,
   "metadata": {},
   "outputs": [],
   "source": [
    "env.step(acts[i])\n",
    "i=i+1"
   ]
  },
  {
   "cell_type": "code",
   "execution_count": 1,
   "metadata": {},
   "outputs": [
    {
     "name": "stdout",
     "output_type": "stream",
     "text": [
      "/home/sholto/anaconda3/lib/python3.7/site-packages/pybullet_data\n",
      "load plane.urdf\n",
      "load r2d2.urdf\n",
      "load kitchen/1.sdf\n"
     ]
    },
    {
     "ename": "error",
     "evalue": "Cannot load SDF file.",
     "output_type": "error",
     "traceback": [
      "\u001b[0;31m---------------------------------------------------------------------------\u001b[0m",
      "\u001b[0;31merror\u001b[0m                                     Traceback (most recent call last)",
      "\u001b[0;32m<ipython-input-1-71c23ca556d2>\u001b[0m in \u001b[0;36m<module>\u001b[0;34m\u001b[0m\n\u001b[1;32m     16\u001b[0m \u001b[0mp\u001b[0m\u001b[0;34m.\u001b[0m\u001b[0mloadURDF\u001b[0m\u001b[0;34m(\u001b[0m\u001b[0;34m\"r2d2.urdf\"\u001b[0m\u001b[0;34m,\u001b[0m \u001b[0;36m0\u001b[0m\u001b[0;34m,\u001b[0m \u001b[0;36m0\u001b[0m\u001b[0;34m,\u001b[0m \u001b[0;36m1\u001b[0m\u001b[0;34m)\u001b[0m\u001b[0;34m\u001b[0m\u001b[0;34m\u001b[0m\u001b[0m\n\u001b[1;32m     17\u001b[0m \u001b[0mprint\u001b[0m\u001b[0;34m(\u001b[0m\u001b[0;34m\"load kitchen/1.sdf\"\u001b[0m\u001b[0;34m)\u001b[0m\u001b[0;34m\u001b[0m\u001b[0;34m\u001b[0m\u001b[0m\n\u001b[0;32m---> 18\u001b[0;31m \u001b[0mp\u001b[0m\u001b[0;34m.\u001b[0m\u001b[0mloadSDF\u001b[0m\u001b[0;34m(\u001b[0m\u001b[0mpybullet_data\u001b[0m\u001b[0;34m.\u001b[0m\u001b[0mgetDataPath\u001b[0m\u001b[0;34m(\u001b[0m\u001b[0;34m)\u001b[0m \u001b[0;34m+\u001b[0m \u001b[0;34m'kitchens/1.sdf'\u001b[0m\u001b[0;34m)\u001b[0m\u001b[0;34m\u001b[0m\u001b[0;34m\u001b[0m\u001b[0m\n\u001b[0m\u001b[1;32m     19\u001b[0m \u001b[0mprint\u001b[0m\u001b[0;34m(\u001b[0m\u001b[0;34m\"load 100 times plate.urdf\"\u001b[0m\u001b[0;34m)\u001b[0m\u001b[0;34m\u001b[0m\u001b[0;34m\u001b[0m\u001b[0m\n\u001b[1;32m     20\u001b[0m \u001b[0;32mfor\u001b[0m \u001b[0mi\u001b[0m \u001b[0;32min\u001b[0m \u001b[0mrange\u001b[0m\u001b[0;34m(\u001b[0m\u001b[0;36m100\u001b[0m\u001b[0;34m)\u001b[0m\u001b[0;34m:\u001b[0m\u001b[0;34m\u001b[0m\u001b[0;34m\u001b[0m\u001b[0m\n",
      "\u001b[0;31merror\u001b[0m: Cannot load SDF file."
     ]
    }
   ],
   "source": [
    "\n",
    "import pybullet as p\n",
    "import time\n",
    "import pybullet_data\n",
    "print(pybullet_data.getDataPath())\n",
    "p.connect(p.GUI)\n",
    "p.setAdditionalSearchPath(pybullet_data.getDataPath())\n",
    "\n",
    "p.resetSimulation()\n",
    "timinglog = p.startStateLogging(p.STATE_LOGGING_PROFILE_TIMINGS, \"loadingBenchVR.json\")\n",
    "p.configureDebugVisualizer(p.COV_ENABLE_RENDERING, 0)\n",
    "print(\"load plane.urdf\")\n",
    "p.loadURDF(\"plane.urdf\")\n",
    "print(\"load r2d2.urdf\")\n",
    "\n",
    "p.loadURDF(\"r2d2.urdf\", 0, 0, 1)\n",
    "print(\"load kitchen/1.sdf\")\n",
    "p.loadSDF(pybullet_data.getDataPath() + 'kitchens/1.sdf')\n",
    "print(\"load 100 times plate.urdf\")\n",
    "for i in range(100):\n",
    "  p.loadURDF(\"dinnerware/plate.urdf\", 0, i, 1)\n",
    "\n",
    "p.configureDebugVisualizer(p.COV_ENABLE_RENDERING, 1)\n",
    "\n",
    "p.stopStateLogging(timinglog)\n",
    "print(\"stopped state logging\")\n",
    "p.getCameraImage(320, 200)\n",
    "\n",
    "while (1):\n",
    "  p.stepSimulation()"
   ]
  },
  {
   "cell_type": "code",
   "execution_count": 5,
   "metadata": {},
   "outputs": [
    {
     "data": {
      "text/plain": [
       "True"
      ]
     },
     "execution_count": 5,
     "metadata": {},
     "output_type": "execute_result"
    }
   ],
   "source": [
    "import os\n",
    "os.path.exists(pybullet_data.getDataPath() + '/kitchens/1.sdf')"
   ]
  },
  {
   "cell_type": "code",
   "execution_count": 4,
   "metadata": {},
   "outputs": [
    {
     "data": {
      "text/plain": [
       "'/home/sholto/anaconda3/lib/python3.7/site-packages/pybullet_datakitchens/1.sdf'"
      ]
     },
     "execution_count": 4,
     "metadata": {},
     "output_type": "execute_result"
    }
   ],
   "source": [
    "pybullet_data.getDataPath() + 'kitchens/1.sdf'"
   ]
  },
  {
   "cell_type": "code",
   "execution_count": 1,
   "metadata": {},
   "outputs": [],
   "source": [
    "import pybullet as p\n",
    "import time\n",
    "import pybullet_data\n",
    "\n",
    "p.connect(p.GUI)\n",
    "p.setAdditionalSearchPath(pybullet_data.getDataPath())\n",
    "p.createCollisionShape(p.GEOM_PLANE)\n",
    "p.createMultiBody(0, 0)\n",
    "\n",
    "sphereRadius = 0.05\n",
    "colSphereId = p.createCollisionShape(p.GEOM_SPHERE, radius=sphereRadius)\n",
    "colBoxId = p.createCollisionShape(p.GEOM_BOX,\n",
    "                                  halfExtents=[sphereRadius, sphereRadius*2, sphereRadius])\n",
    "\n",
    "colBoxId = p.createCollisionShape(p.GEOM_MESH,fileName='duck_vhacd.obj')\n",
    "\n",
    "mass = 0\n",
    "visualShapeId = -1\n",
    "\n",
    "link_Masses = [1]\n",
    "linkCollisionShapeIndices = [colBoxId]\n",
    "linkVisualShapeIndices = [-1]\n",
    "linkPositions = [[0, 0.3, 0.11]]\n",
    "linkOrientations = [[0, 0, 0, 1]]\n",
    "linkInertialFramePositions = [[0, -0.3, -0.30]]\n",
    "linkInertialFrameOrientations = [[1, 0, 0, 1]]\n",
    "indices = [0]\n",
    "jointTypes = [p.JOINT_REVOLUTE]\n",
    "#jointTypes = [p.JOINT_PRISMATIC]\n",
    "axis = [[1, 0, 0]]\n",
    "\n",
    "i = 0\n",
    "j= 0\n",
    "k=0\n",
    "basePosition = [\n",
    "  0,0,0\n",
    "]\n",
    "baseOrientation = [0, 0, 0, 1]\n",
    "\n",
    "sphereUid = p.createMultiBody(mass,\n",
    "                              colBoxId,\n",
    "                              visualShapeId,\n",
    "                              basePosition,\n",
    "                              baseOrientation,\n",
    "                              linkMasses=link_Masses,\n",
    "                              linkCollisionShapeIndices=linkCollisionShapeIndices,\n",
    "                              linkVisualShapeIndices=linkVisualShapeIndices,\n",
    "                              linkPositions=linkPositions,\n",
    "                              linkOrientations=linkOrientations,\n",
    "                              linkInertialFramePositions=linkInertialFramePositions,\n",
    "                              linkInertialFrameOrientations=linkInertialFrameOrientations,\n",
    "                              linkParentIndices=indices,\n",
    "                              linkJointTypes=jointTypes,\n",
    "                              linkJointAxis=axis)\n",
    "\n",
    "p.changeDynamics(sphereUid,\n",
    "               -1,\n",
    "               spinningFriction=0.001,\n",
    "               rollingFriction=0.001,\n",
    "               linearDamping=0.0)\n",
    "# for joint in range(p.getNumJoints(sphereUid)):\n",
    "#     p.setJointMotorControl2(sphereUid, joint, p.VELOCITY_CONTROL, targetVelocity=1, force=10)\n",
    "\n",
    "p.setGravity(0, 0, -10)\n",
    "p.setRealTimeSimulation(1)\n",
    "\n",
    "p.getNumJoints(sphereUid)\n",
    "for i in range(p.getNumJoints(sphereUid)):\n",
    "  p.getJointInfo(sphereUid, i)\n",
    "\n",
    "# while (1):\n",
    "#   for i in range(p.getNumJoints(sphereUid)):\n",
    "#       print(p.getJointInfo(sphereUid, i))\n",
    "\n",
    "\n",
    "  #time.sleep(0.01)"
   ]
  },
  {
   "cell_type": "code",
   "execution_count": 5,
   "metadata": {},
   "outputs": [
    {
     "name": "stdout",
     "output_type": "stream",
     "text": [
      "(0.9794792285273164, 0.0, (0.0, 0.0, 0.0, 0.0, 0.0, 0.0), 0.8182566176524201)\n"
     ]
    }
   ],
   "source": [
    "for i in range(p.getNumJoints(sphereUid)):\n",
    "  print(p.getJointState(sphereUid, i))"
   ]
  },
  {
   "cell_type": "code",
   "execution_count": 4,
   "metadata": {},
   "outputs": [
    {
     "name": "stdout",
     "output_type": "stream",
     "text": [
      "(2.055469357991168, 0.0, (0.0, 0.0, 0.0, 0.0, 0.0, 0.0), 4.052239232486693)\n"
     ]
    }
   ],
   "source": [
    "for i in range(p.getNumJoints(sphereUid)):\n",
    "  print(p.getJointState(sphereUid, i))"
   ]
  },
  {
   "cell_type": "code",
   "execution_count": 4,
   "metadata": {},
   "outputs": [],
   "source": [
    "ori = p.getQuaternionFromEuler([0,np.pi/2,0])\n"
   ]
  },
  {
   "cell_type": "code",
   "execution_count": 5,
   "metadata": {},
   "outputs": [],
   "source": [
    "linkOrientations =  [ori]\n",
    "sphereUid = p.createMultiBody(mass,\n",
    "                              colBoxId,\n",
    "                              visualShapeId,\n",
    "                              basePosition,\n",
    "                              baseOrientation,\n",
    "                              linkMasses=link_Masses,\n",
    "                              linkCollisionShapeIndices=linkCollisionShapeIndices,\n",
    "                              linkVisualShapeIndices=linkVisualShapeIndices,\n",
    "                              linkPositions=linkPositions,\n",
    "                              linkOrientations=linkOrientations,\n",
    "                              linkInertialFramePositions=linkInertialFramePositions,\n",
    "                              linkInertialFrameOrientations=linkInertialFrameOrientations,\n",
    "                              linkParentIndices=indices,\n",
    "                              linkJointTypes=jointTypes,\n",
    "                              linkJointAxis=axis)"
   ]
  },
  {
   "cell_type": "code",
   "execution_count": null,
   "metadata": {},
   "outputs": [],
   "source": [
    "p.quat_"
   ]
  },
  {
   "cell_type": "code",
   "execution_count": null,
   "metadata": {},
   "outputs": [],
   "source": []
  },
  {
   "cell_type": "code",
   "execution_count": 1,
   "metadata": {},
   "outputs": [
    {
     "ename": "TypeError",
     "evalue": "'repulsionStiffness' is an invalid keyword argument for this function",
     "output_type": "error",
     "traceback": [
      "\u001b[0;31m---------------------------------------------------------------------------\u001b[0m",
      "\u001b[0;31mTypeError\u001b[0m                                 Traceback (most recent call last)",
      "\u001b[0;32m<ipython-input-1-c9ff9dfef2d8>\u001b[0m in \u001b[0;36m<module>\u001b[0;34m\u001b[0m\n\u001b[1;32m     15\u001b[0m \u001b[0mboxId\u001b[0m \u001b[0;34m=\u001b[0m \u001b[0mp\u001b[0m\u001b[0;34m.\u001b[0m\u001b[0mloadURDF\u001b[0m\u001b[0;34m(\u001b[0m\u001b[0;34m\"cube_small.urdf\"\u001b[0m\u001b[0;34m,\u001b[0m \u001b[0;34m[\u001b[0m\u001b[0;36m0\u001b[0m\u001b[0;34m,\u001b[0m\u001b[0;36m3\u001b[0m\u001b[0;34m,\u001b[0m\u001b[0;36m2\u001b[0m\u001b[0;34m]\u001b[0m\u001b[0;34m,\u001b[0m\u001b[0museMaximalCoordinates\u001b[0m \u001b[0;34m=\u001b[0m \u001b[0;32mTrue\u001b[0m\u001b[0;34m)\u001b[0m\u001b[0;34m\u001b[0m\u001b[0;34m\u001b[0m\u001b[0m\n\u001b[1;32m     16\u001b[0m \u001b[0;34m\u001b[0m\u001b[0m\n\u001b[0;32m---> 17\u001b[0;31m \u001b[0mbunnyId\u001b[0m \u001b[0;34m=\u001b[0m \u001b[0mp\u001b[0m\u001b[0;34m.\u001b[0m\u001b[0mloadSoftBody\u001b[0m\u001b[0;34m(\u001b[0m\u001b[0;34m\"torus.vtk\"\u001b[0m\u001b[0;34m,\u001b[0m \u001b[0mmass\u001b[0m \u001b[0;34m=\u001b[0m \u001b[0;36m1\u001b[0m\u001b[0;34m,\u001b[0m \u001b[0museNeoHookean\u001b[0m \u001b[0;34m=\u001b[0m \u001b[0;36m1\u001b[0m\u001b[0;34m,\u001b[0m \u001b[0mNeoHookeanMu\u001b[0m \u001b[0;34m=\u001b[0m \u001b[0;36m60\u001b[0m\u001b[0;34m,\u001b[0m \u001b[0mNeoHookeanLambda\u001b[0m \u001b[0;34m=\u001b[0m \u001b[0;36m200\u001b[0m\u001b[0;34m,\u001b[0m \u001b[0mNeoHookeanDamping\u001b[0m \u001b[0;34m=\u001b[0m \u001b[0;36m0.01\u001b[0m\u001b[0;34m,\u001b[0m \u001b[0mcollisionMargin\u001b[0m \u001b[0;34m=\u001b[0m \u001b[0;36m0.006\u001b[0m\u001b[0;34m,\u001b[0m \u001b[0museSelfCollision\u001b[0m \u001b[0;34m=\u001b[0m \u001b[0;36m1\u001b[0m\u001b[0;34m,\u001b[0m \u001b[0mfrictionCoeff\u001b[0m \u001b[0;34m=\u001b[0m \u001b[0;36m0.5\u001b[0m\u001b[0;34m,\u001b[0m \u001b[0mrepulsionStiffness\u001b[0m \u001b[0;34m=\u001b[0m \u001b[0;36m800\u001b[0m\u001b[0;34m)\u001b[0m\u001b[0;34m\u001b[0m\u001b[0;34m\u001b[0m\u001b[0m\n\u001b[0m\u001b[1;32m     18\u001b[0m \u001b[0;34m\u001b[0m\u001b[0m\n\u001b[1;32m     19\u001b[0m \u001b[0mbunny2\u001b[0m \u001b[0;34m=\u001b[0m \u001b[0mp\u001b[0m\u001b[0;34m.\u001b[0m\u001b[0mloadURDF\u001b[0m\u001b[0;34m(\u001b[0m\u001b[0;34m\"torus_deform.urdf\"\u001b[0m\u001b[0;34m,\u001b[0m \u001b[0;34m[\u001b[0m\u001b[0;36m0\u001b[0m\u001b[0;34m,\u001b[0m\u001b[0;36m1\u001b[0m\u001b[0;34m,\u001b[0m\u001b[0;36m0\u001b[0m\u001b[0;34m]\u001b[0m\u001b[0;34m,\u001b[0m \u001b[0mflags\u001b[0m\u001b[0;34m=\u001b[0m\u001b[0mp\u001b[0m\u001b[0;34m.\u001b[0m\u001b[0mURDF_USE_SELF_COLLISION\u001b[0m\u001b[0;34m)\u001b[0m\u001b[0;34m\u001b[0m\u001b[0;34m\u001b[0m\u001b[0m\n",
      "\u001b[0;31mTypeError\u001b[0m: 'repulsionStiffness' is an invalid keyword argument for this function"
     ]
    }
   ],
   "source": [
    "import pybullet as p\n",
    "from time import sleep\n",
    "import pybullet_data\n",
    "\n",
    "physicsClient = p.connect(p.GUI)\n",
    "\n",
    "p.setAdditionalSearchPath(pybullet_data.getDataPath())\n",
    "\n",
    "p.resetSimulation(p.RESET_USE_DEFORMABLE_WORLD)\n",
    "\n",
    "p.setGravity(0, 0, -10)\n",
    "\n",
    "planeId = p.loadURDF(\"plane.urdf\", [0,0,-2])\n",
    "\n",
    "boxId = p.loadURDF(\"cube_small.urdf\", [0,3,2],useMaximalCoordinates = True)\n",
    "\n",
    "bunnyId = p.loadSoftBody(\"torus.vtk\", mass = 1, useNeoHookean = 1, NeoHookeanMu = 60, NeoHookeanLambda = 200, NeoHookeanDamping = 0.01, collisionMargin = 0.006, useSelfCollision = 1, frictionCoeff = 0.5, repulsionStiffness = 800)\n",
    "\n",
    "bunny2 = p.loadURDF(\"torus_deform.urdf\", [0,1,0], flags=p.URDF_USE_SELF_COLLISION)\n",
    "\n",
    "p.setPhysicsEngineParameter(sparseSdfVoxelSize=0.25)\n",
    "p.setRealTimeSimulation(1)\n",
    "\n",
    "while p.isConnected():\n",
    "  p.setGravity(0,0,-10)"
   ]
  },
  {
   "cell_type": "code",
   "execution_count": null,
   "metadata": {},
   "outputs": [],
   "source": []
  }
 ],
 "metadata": {
  "kernelspec": {
   "display_name": "Python 3",
   "language": "python",
   "name": "python3"
  },
  "language_info": {
   "codemirror_mode": {
    "name": "ipython",
    "version": 3
   },
   "file_extension": ".py",
   "mimetype": "text/x-python",
   "name": "python",
   "nbconvert_exporter": "python",
   "pygments_lexer": "ipython3",
   "version": "3.7.3"
  }
 },
 "nbformat": 4,
 "nbformat_minor": 2
}
