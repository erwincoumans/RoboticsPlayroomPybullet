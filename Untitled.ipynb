{
 "cells": [
  {
   "cell_type": "code",
   "execution_count": null,
   "metadata": {},
   "outputs": [],
   "source": [
    "import pybullet as p\n",
    "p.connect(p.GUI)\n",
    "\n",
    "self.ur5 = p.loadURDF(\"/root/ocrtoc_ws/install/share/sapien_simulator/urdf/ur5e.urdf\",[0,0,0])\n",
    "self.n_joints = p.getNumJoints(self.ur5)\n",
    "\n",
    "# [shoulder_pan_joint, shoulder_lift_joint, elbow_joint, wrist_1_joint, wrist_2_joint,\n",
    "#wrist_3_joint]\n",
    "self.joints_indices = [1,2,3,4,5,6]\n",
    "self.jointNames = [p.getJointInfo(self.ur5, i)[1] for i in self.joints_indices]\n",
    "\n",
    "for i in self.joints_indices:\n",
    "    print_output(p.getJointInfo(self.ur5, i)[1])\n",
    "\n",
    "\n",
    "rospy.wait_for_service('/arm_controller/query_state')\n",
    "print_output('/arm_controller/query_state service has arrived')\n",
    "self.query_trajectory_state = rospy.ServiceProxy('/arm_controller/query_state', QueryTrajectoryState)\n",
    "self.arm_joint_positions = None\n",
    "self.arm_joint_velocity = None\n",
    "\n",
    "self.default_joints = [-0.9572998713387112,\n",
    "                            -0.8639503472294617,\n",
    "                            -1.9830303329043686,\n",
    "                            -1.8654094162934607,\n",
    "                            1.5707874376070445,\n",
    "                            0.6135043943552552]\n",
    "\n",
    "self.default_ori = p.getQuaternionFromEuler([np.pi,0,0])\n",
    "self.default_pos = (0,0.0,0.5)\n",
    "\n",
    "self.current_angles = self.default_joints\n",
    "self.arm_moving = False\n",
    "self.get_current_joint_states()\n",
    "\n",
    "#controlling 'tool0'\n",
    "self.ee_index=8\n",
    "\n",
    "# to print all the link names\n",
    "# for i in range(16):\n",
    "#     print_output(i, p.getJointInfo(self.ur5, i)[12])\n",
    "self.set_states(self.default_joints)"
   ]
  }
 ],
 "metadata": {
  "kernelspec": {
   "display_name": "Python 3",
   "language": "python",
   "name": "python3"
  },
  "language_info": {
   "codemirror_mode": {
    "name": "ipython",
    "version": 3
   },
   "file_extension": ".py",
   "mimetype": "text/x-python",
   "name": "python",
   "nbconvert_exporter": "python",
   "pygments_lexer": "ipython3",
   "version": "3.7.3"
  }
 },
 "nbformat": 4,
 "nbformat_minor": 2
}
